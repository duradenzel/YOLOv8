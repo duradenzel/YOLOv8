{
 "cells": [
  {
   "cell_type": "code",
   "execution_count": 8,
   "metadata": {},
   "outputs": [
    {
     "name": "stdout",
     "output_type": "stream",
     "text": [
      "\n",
      "image 1/1 C:\\Users\\Huijb\\OneDrive\\Bureaublad\\Fontys\\Semester 4\\Group project\\YOLOv8\\IMG_7738.jpg: 384x640 (no detections), 25.7ms\n",
      "Speed: 4.7ms preprocess, 25.7ms inference, 0.0ms postprocess per image at shape (1, 3, 384, 640)\n",
      "Results saved to \u001b[1mruns\\detect\\predict\u001b[0m\n"
     ]
    }
   ],
   "source": [
    "\n",
    "from ultralytics import YOLO\n",
    "\n",
    "# Load a model\n",
    "#model = YOLO(r\"C:/Users/Huijb/OneDrive/Bureaublad/Fontys/Semester 4/Group project/YOLOv8/runs/detect/train4/weights/last.pt\")  # build a new model from scratch\n",
    "model = YOLO(\"yolov8n.yaml\")  # build a new model from scratch\n",
    "\n",
    "\n",
    "# Use the model\n",
    "model.train(data=\"config.yaml\", epochs=5, batch=6, resume=True, half=True)\n",
    "\n",
    "#test_image_path = r\"C:\\Users\\Huijb\\OneDrive\\Bureaublad\\Fontys\\Semester 4\\Group project\\YOLOv8\\IMG_7738.jpg\"  # Replace with the path to a specific image from your dataset\n",
    "\n",
    "# Run inference on the test image\n",
    "#results = model.predict(source=test_image_path, save=True)\n"
   ]
  }
 ],
 "metadata": {
  "kernelspec": {
   "display_name": "Python 3",
   "language": "python",
   "name": "python3"
  },
  "language_info": {
   "codemirror_mode": {
    "name": "ipython",
    "version": 3
   },
   "file_extension": ".py",
   "mimetype": "text/x-python",
   "name": "python",
   "nbconvert_exporter": "python",
   "pygments_lexer": "ipython3",
   "version": "3.12.5"
  }
 },
 "nbformat": 4,
 "nbformat_minor": 2
}
